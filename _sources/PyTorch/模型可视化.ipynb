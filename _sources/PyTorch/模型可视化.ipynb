{
 "cells": [
  {
   "cell_type": "markdown",
   "metadata": {},
   "source": [
    "## 使用torchview\n",
    "\n",
    "### 安装\n",
    "pip install torchview graphviz\n",
    "\n",
    "### 使用方法\n"
   ]
  },
  {
   "cell_type": "code",
   "execution_count": null,
   "metadata": {},
   "outputs": [],
   "source": [
    "from torchview import draw_graph\n",
    "\n",
    "model_graph = draw_graph(model, input_size=x.shape, expand_nested=True, save_graph=True, filename=\"torchview\", directory=\".\")\n",
    "\n",
    "model_graph.visual_graph"
   ]
  }
 ],
 "metadata": {
  "language_info": {
   "name": "python"
  }
 },
 "nbformat": 4,
 "nbformat_minor": 2
}
