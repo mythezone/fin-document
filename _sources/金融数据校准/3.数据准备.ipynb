{
 "cells": [
  {
   "cell_type": "markdown",
   "metadata": {},
   "source": [
    "# 准备训练数据\n",
    "\n",
    "\n",
    "## 金融数据（限价订单簿）\n",
    "关于LOB的详细说明可以参考{ref}`LOB:define`.\n",
    "\n",
    "### 金融数据格式说明\n",
    "\n",
    "\n",
    "该金融数据集记录了特定时间点的市场交易信息，并以 CSV 格式存储。每行代表一个时间点的数据快照，包含买卖报价、交易量等重要信息。CSV 文件的列格式如下：\n",
    "\n",
    "```\n",
    "[time,\n",
    "bestAskPrice1,bestBidPrice1,AskVolume1,BidVolume1,\n",
    "AskPrice2,BidPrice2,AskVolume2,BidVolume2,\n",
    "AskPrice3,BidPrice3,AskVolume3,BidVolume3,\n",
    "AskPrice4,BidPrice4,AskVolume4,BidVolume4,\n",
    "AskPrice5,BidPrice5,AskVolume5,BidVolume5,\n",
    "AskPrice6,BidPrice6,AskVolume6,BidVolume6,\n",
    "AskPrice7,BidPrice7,AskVolume7,BidVolume7,\n",
    "AskPrice8,BidPrice8,AskVolume8,BidVolume8,\n",
    "AskPrice9,BidPrice9,AskVolume9,BidVolume9,\n",
    "AskPrice10,BidPrice10,AskVolume10,BidVolume10\n",
    "]\n",
    "```\n",
    "\n",
    "#### 列说明\n",
    "\n",
    "- **time**：记录数据的时间点，格式为 \"YYYY-MM-DD HH:MM:SS\"。\n",
    "- **bestAskPrice1**：最佳卖价1，即当前市场中最低的卖出价格。\n",
    "- **bestBidPrice1**：最佳买价1，即当前市场中最高的买入价格。\n",
    "- **AskVolume1**：最佳卖价1对应的卖出量。\n",
    "- **BidVolume1**：最佳买价1对应的买入量。\n",
    "- **AskPrice2, BidPrice2, AskVolume2, BidVolume2**：次最佳买卖价及对应的交易量，以此类推，最多记录到第10档买卖价及其对应的交易量。\n",
    "\n",
    "#### 数据示例\n",
    "\n",
    "```\n",
    "2019-03-14 10:00:00,1244.0,1243.0,765.0,846.0,1245.0,1242.0,1645.0,288.0,1246.0,1241.0,2410.0,1259.0,1247.0,1240.0,2646.0,4509.0,1248.0,1239.0,3595.0,773.0,1249.0,1238.0,4935.0,923.0,1250.0,1237.0,5560.0,1566.0,1251.0,1236.0,1030.0,932.0,1252.0,1235.0,1728.0,908.0,1253.0,1234.0,3580.0,160.0\n",
    "2019-03-14 10:00:03,1244.0,1243.0,694.0,898.0,1245.0,1242.0,1655.0,303.0,1246.0,1241.0,2410.0,1359.0,1247.0,1240.0,2646.0,4509.0,1248.0,1239.0,3595.0,773.0,1249.0,1238.0,4935.0,923.0,1250.0,1237.0,5543.0,1566.0,1251.0,1236.0,1030.0,932.0,1252.0,1235.0,1728.0,898.0,1253.0,1234.0,3588.0,160.0\n",
    "```\n",
    "\n",
    "#### 说明\n",
    "\n",
    "- 每行数据从时间戳开始，紧接着是十档买卖价和对应的交易量。\n",
    "- 买卖价数据以 \"AskPriceN\" 和 \"BidPriceN\" 命名，交易量数据以 \"AskVolumeN\" 和 \"BidVolumeN\" 命名，其中 N 代表第 N 档价格和交易量。\n",
    "- 此数据格式适用于金融市场分析和交易策略研究，可以帮助分析买卖盘的变化及市场深度。\n",
    "\n",
    "\n",
    "\n",
    "### 金融数据生成\n"
   ]
  },
  {
   "cell_type": "code",
   "execution_count": null,
   "metadata": {},
   "outputs": [],
   "source": []
  }
 ],
 "metadata": {
  "kernelspec": {
   "display_name": "sbi",
   "language": "python",
   "name": "python3"
  },
  "language_info": {
   "name": "python",
   "version": "3.8.0"
  }
 },
 "nbformat": 4,
 "nbformat_minor": 2
}
